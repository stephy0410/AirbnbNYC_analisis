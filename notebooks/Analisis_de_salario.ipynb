{
 "cells": [
  {
   "cell_type": "code",
   "execution_count": null,
   "id": "cd11d83a",
   "metadata": {},
   "outputs": [
    {
     "data": {
      "text/html": [
       "<div>\n",
       "<style scoped>\n",
       "    .dataframe tbody tr th:only-of-type {\n",
       "        vertical-align: middle;\n",
       "    }\n",
       "\n",
       "    .dataframe tbody tr th {\n",
       "        vertical-align: top;\n",
       "    }\n",
       "\n",
       "    .dataframe thead th {\n",
       "        text-align: right;\n",
       "    }\n",
       "</style>\n",
       "<table border=\"1\" class=\"dataframe\">\n",
       "  <thead>\n",
       "    <tr style=\"text-align: right;\">\n",
       "      <th></th>\n",
       "      <th>Age</th>\n",
       "      <th>Gender</th>\n",
       "      <th>Education Level</th>\n",
       "      <th>Job Title</th>\n",
       "      <th>Years of Experience</th>\n",
       "      <th>Salary</th>\n",
       "    </tr>\n",
       "  </thead>\n",
       "  <tbody>\n",
       "    <tr>\n",
       "      <th>0</th>\n",
       "      <td>32.0</td>\n",
       "      <td>Male</td>\n",
       "      <td>Bachelor's</td>\n",
       "      <td>Software Engineer</td>\n",
       "      <td>5.0</td>\n",
       "      <td>90000.0</td>\n",
       "    </tr>\n",
       "    <tr>\n",
       "      <th>1</th>\n",
       "      <td>28.0</td>\n",
       "      <td>Female</td>\n",
       "      <td>Master's</td>\n",
       "      <td>Data Analyst</td>\n",
       "      <td>3.0</td>\n",
       "      <td>65000.0</td>\n",
       "    </tr>\n",
       "    <tr>\n",
       "      <th>2</th>\n",
       "      <td>45.0</td>\n",
       "      <td>Male</td>\n",
       "      <td>PhD</td>\n",
       "      <td>Senior Manager</td>\n",
       "      <td>15.0</td>\n",
       "      <td>150000.0</td>\n",
       "    </tr>\n",
       "    <tr>\n",
       "      <th>3</th>\n",
       "      <td>36.0</td>\n",
       "      <td>Female</td>\n",
       "      <td>Bachelor's</td>\n",
       "      <td>Sales Associate</td>\n",
       "      <td>7.0</td>\n",
       "      <td>60000.0</td>\n",
       "    </tr>\n",
       "    <tr>\n",
       "      <th>4</th>\n",
       "      <td>52.0</td>\n",
       "      <td>Male</td>\n",
       "      <td>Master's</td>\n",
       "      <td>Director</td>\n",
       "      <td>20.0</td>\n",
       "      <td>200000.0</td>\n",
       "    </tr>\n",
       "  </tbody>\n",
       "</table>\n",
       "</div>"
      ],
      "text/plain": [
       "    Age  Gender Education Level          Job Title  Years of Experience  \\\n",
       "0  32.0    Male      Bachelor's  Software Engineer                  5.0   \n",
       "1  28.0  Female        Master's       Data Analyst                  3.0   \n",
       "2  45.0    Male             PhD     Senior Manager                 15.0   \n",
       "3  36.0  Female      Bachelor's    Sales Associate                  7.0   \n",
       "4  52.0    Male        Master's           Director                 20.0   \n",
       "\n",
       "     Salary  \n",
       "0   90000.0  \n",
       "1   65000.0  \n",
       "2  150000.0  \n",
       "3   60000.0  \n",
       "4  200000.0  "
      ]
     },
     "execution_count": 3,
     "metadata": {},
     "output_type": "execute_result"
    }
   ],
   "source": [
    "# Carga del dataset:\n",
    "\n",
    "import pandas as pd\n",
    "import numpy as np\n",
    "import matplotlib.pyplot as plt\n",
    "import seaborn as sns\n",
    "\n",
    "df = pd.read_csv(\"../datos/Salary_Data.csv\")\n",
    "df.head()\n",
    "\n"
   ]
  },
  {
   "cell_type": "code",
   "execution_count": null,
   "id": "9a445268",
   "metadata": {},
   "outputs": [
    {
     "name": "stdout",
     "output_type": "stream",
     "text": [
      "<class 'pandas.core.frame.DataFrame'>\n",
      "RangeIndex: 6704 entries, 0 to 6703\n",
      "Data columns (total 6 columns):\n",
      " #   Column               Non-Null Count  Dtype  \n",
      "---  ------               --------------  -----  \n",
      " 0   Age                  6702 non-null   float64\n",
      " 1   Gender               6702 non-null   object \n",
      " 2   Education Level      6701 non-null   object \n",
      " 3   Job Title            6702 non-null   object \n",
      " 4   Years of Experience  6701 non-null   float64\n",
      " 5   Salary               6699 non-null   float64\n",
      "dtypes: float64(3), object(3)\n",
      "memory usage: 314.4+ KB\n"
     ]
    },
    {
     "data": {
      "text/plain": [
       "Age                    2\n",
       "Gender                 2\n",
       "Education Level        3\n",
       "Job Title              2\n",
       "Years of Experience    3\n",
       "Salary                 5\n",
       "dtype: int64"
      ]
     },
     "execution_count": 4,
     "metadata": {},
     "output_type": "execute_result"
    }
   ],
   "source": [
    "#Conocer la estrucutra basica:\n",
    "\n",
    "\n",
    "df.info()\n",
    "df.describe()\n",
    "df.isnull().sum()\n"
   ]
  },
  {
   "cell_type": "code",
   "execution_count": null,
   "id": "0ebe5ad7",
   "metadata": {},
   "outputs": [
    {
     "name": "stdout",
     "output_type": "stream",
     "text": [
      "Gender\n",
      "Male      3674\n",
      "Female    3014\n",
      "Other       14\n",
      "Name: count, dtype: int64\n",
      "Education Level\n",
      "Bachelor's Degree    2267\n",
      "Master's Degree      1573\n",
      "PhD                  1368\n",
      "Bachelor's            756\n",
      "High School           448\n",
      "Master's              288\n",
      "phD                     1\n",
      "Name: count, dtype: int64\n",
      "Job Title\n",
      "Software Engineer            518\n",
      "Data Scientist               453\n",
      "Software Engineer Manager    376\n",
      "Data Analyst                 363\n",
      "Senior Project Engineer      318\n",
      "Product Manager              313\n",
      "Full Stack Engineer          309\n",
      "Marketing Manager            255\n",
      "Back end Developer           244\n",
      "Senior Software Engineer     244\n",
      "Name: count, dtype: int64\n"
     ]
    }
   ],
   "source": [
    "#Frecuencia de valores en columnas categóricas:\n",
    "\n",
    "print(df[\"Gender\"].value_counts())\n",
    "print(df[\"Education Level\"].value_counts())\n",
    "print(df[\"Job Title\"].value_counts().head(10))\n"
   ]
  },
  {
   "cell_type": "code",
   "execution_count": null,
   "id": "1d704732",
   "metadata": {},
   "outputs": [
    {
     "data": {
      "image/png": "[encoded data removed]",
      "text/plain": [
       "<Figure size 800x400 with 1 Axes>"
      ]
     },
     "metadata": {},
     "output_type": "display_data"
    }
   ],
   "source": [
    "#Calidad de los datos — valores faltantes:\n",
    "\n",
    "missing_percent = df.isnull().sum() * 100 / len(df)\n",
    "missing_percent = missing_percent[missing_percent > 0].sort_values(ascending=False)\n",
    "\n",
    "plt.figure(figsize=(8,4))\n",
    "plt.bar(missing_percent.index, missing_percent.values, color=plt.cm.viridis(np.linspace(0, 1, len(missing_percent))))\n",
    "plt.title(\"Porcentaje de valores faltantes por columna\")\n",
    "plt.ylabel(\"% de valores faltantes\")\n",
    "plt.xlabel(\"Columnas\")\n",
    "plt.xticks(rotation=45)\n",
    "plt.show()\n"
   ]
  },
  {
   "cell_type": "code",
   "execution_count": null,
   "id": "3f819c14",
   "metadata": {},
   "outputs": [
    {
     "name": "stdout",
     "output_type": "stream",
     "text": [
      "Número de filas duplicadas: 4912\n"
     ]
    }
   ],
   "source": [
    "# dulicados:\n",
    "duplicados = df.duplicated().sum()\n",
    "print(f\"Número de filas duplicadas: {duplicados}\")\n"
   ]
  }
 ],
 "metadata": {
  "kernelspec": {
   "display_name": "Python 3",
   "language": "python",
   "name": "python3"
  },
  "language_info": {
   "codemirror_mode": {
    "name": "ipython",
    "version": 3
   },
   "file_extension": ".py",
   "mimetype": "text/x-python",
   "name": "python",
   "nbconvert_exporter": "python",
   "pygments_lexer": "ipython3",
   "version": "3.12.10"
  }
 },
 "nbformat": 4,
 "nbformat_minor": 5
}
